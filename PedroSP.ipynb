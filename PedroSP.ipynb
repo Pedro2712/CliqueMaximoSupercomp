{
  "cells": [
    {
      "cell_type": "markdown",
      "metadata": {
        "id": "Re3iCRWx9nw8"
      },
      "source": [
        "## Geração de grafo"
      ]
    },
    {
      "cell_type": "code",
      "execution_count": 5,
      "metadata": {},
      "outputs": [
        {
          "name": "stdout",
          "output_type": "stream",
          "text": [
            "2127.642973231637\n"
          ]
        }
      ],
      "source": [
        "import numpy as np\n",
        "import matplotlib.pyplot as plt\n",
        "from numpy.polynomial import Polynomial\n",
        "\n",
        "def ajuste_polynomial(vertices, tempos, grau=2):\n",
        "    coeficientes = np.polyfit(vertices, tempos, grau)\n",
        "    modelo = Polynomial(coeficientes)\n",
        "    return modelo\n",
        "\n",
        "def estimar_tempo(vertices_desejados, modelo):\n",
        "    return modelo(vertices_desejados)\n",
        "\n",
        "# Dados de exemplo\n",
        "verticesOpenMP = [10, 20, 30, 40, 50, 60, 70]\n",
        "TempoTotalOpenMP = [1.5, 3.2, 5.0, 7.2, 9.5, 11.8, 14.5]\n",
        "\n",
        "# Ajuste polinomial de segunda ordem\n",
        "modelo = ajuste_polynomial(verticesOpenMP, TempoTotalOpenMP, grau=2)\n",
        "\n",
        "# Exemplo de uso\n",
        "quantidade_vertices_desejada = 35  # Substitua pelo valor desejado\n",
        "tempo_estimado = estimar_tempo(quantidade_vertices_desejada, modelo)\n",
        "\n",
        "print(tempo_estimado)\n",
        "\n",
        "# print(f\"Para {quantidade_vertices_desejada} vértices, o tempo estimado é {tempo_estimado:.2f} segundos.\")\n",
        "\n",
        "# # Visualização do ajuste\n",
        "# x_valores = np.linspace(min(verticesOpenMP), max(verticesOpenMP), 100)\n",
        "# y_valores = modelo(x_valores)\n",
        "\n",
        "# plt.scatter(verticesOpenMP, TempoTotalOpenMP, label=\"Dados Originais\")\n",
        "# plt.plot(x_valores, y_valores, label=\"Ajuste Polinomial\", color='red')\n",
        "# plt.xlabel(\"Número de Vértices\")\n",
        "# plt.ylabel(\"Tempo (segundos)\")\n",
        "# plt.legend()\n",
        "# plt.show()\n"
      ]
    },
    {
      "cell_type": "code",
      "execution_count": 2,
      "metadata": {},
      "outputs": [
        {
          "name": "stdout",
          "output_type": "stream",
          "text": [
            "Defaulting to user installation because normal site-packages is not writeable\n",
            "Collecting networkx\n",
            "  Downloading networkx-3.2.1-py3-none-any.whl (1.6 MB)\n",
            "\u001b[2K     \u001b[90m━━━━━━━━━━━━━━━━━━━━━━━━━━━━━━━━━━━━━━━━\u001b[0m \u001b[32m1.6/1.6 MB\u001b[0m \u001b[31m12.1 MB/s\u001b[0m eta \u001b[36m0:00:00\u001b[0ma \u001b[36m0:00:01\u001b[0m\n",
            "\u001b[?25hInstalling collected packages: networkx\n",
            "Successfully installed networkx-3.2.1\n"
          ]
        }
      ],
      "source": [
        "!pip install networkx"
      ]
    },
    {
      "cell_type": "markdown",
      "metadata": {},
      "source": [
        "Para otimizar a busca exaustiva por cliques máximos em um grafo, podemos considerar a implementação de heurísticas e técnicas de poda. O objetivo dessas estratégias é reduzir o espaço de busca e evitar o cálculo desnecessário de subgrafos que não podem conter um clique maior do que o já encontrado. Vamos apresentar um pseudo-código que incorpora essas ideias.\n",
        "\n",
        "Pseudo-Código com Heurísticas e Poda\n",
        "plaintext\n",
        "Copy code\n",
        "Função EncontrarCliqueMaxima(adjList, cand, clique, CM):\n",
        "    Se cand estiver vazio:\n",
        "        Se tamanho de clique > tamanho de CM:\n",
        "            CM = clique\n",
        "        Retorne CM\n",
        "\n",
        "    Se tamanho de clique + tamanho de cand <= tamanho de CM:\n",
        "        // Poda: Não é possível encontrar um clique maior\n",
        "        Retorne CM\n",
        "\n",
        "    Para cada vértice v em cand:\n",
        "        Se v não pode formar um clique maior com clique atual:\n",
        "            Continue para o próximo vértice\n",
        "\n",
        "        newClique = clique + [v]\n",
        "        Se newClique é um clique:\n",
        "            newCand = candidatos restantes após v que são adjacentes a v\n",
        "            CM = EncontrarCliqueMaxima(adjList, newCand, newClique, CM)\n",
        "\n",
        "    Retorne CM\n",
        "\n",
        "Função Principal:\n",
        "    Ler grafo do arquivo \"grafo.txt\"\n",
        "    Inicializar candidatos com todos os vértices do grafo\n",
        "    Definir clique e CM como vetores vazios\n",
        "    CM = EncontrarCliqueMaxima(adjList, candidatos, clique, CM)\n",
        "    Exibir tamanho e vértices do clique máximo\n",
        "Estratégias de Otimização\n",
        "Poda Baseada em Tamanho:\n",
        "\n",
        "Se o tamanho do maior clique possível com os candidatos restantes mais o clique atual é menor ou igual ao tamanho do maior clique já encontrado (CM), então este ramo pode ser descartado.\n",
        "Verificação de Adjacência Antes da Recursão:\n",
        "\n",
        "Antes de adicionar um vértice ao clique, verifique se ele é adjacente a todos os vértices no clique atual. Isso evita chamadas recursivas desnecessárias.\n",
        "Ordenação dos Vértices:\n",
        "\n",
        "Ordenar os vértices com base em seu grau (número de arestas) pode ajudar a encontrar cliques maiores mais rapidamente, especialmente se começarmos com vértices de alto grau.\n",
        "Limitação do Espaço de Busca:\n",
        "\n",
        "Limitar o espaço de busca a subconjuntos promissores do grafo, talvez usando heurísticas baseadas em propriedades do grafo (como densidade de arestas, centralidade dos vértices, etc.).\n",
        "Uso de Heurísticas de Seleção de Vértices:\n",
        "\n",
        "Implementar heurísticas para escolher quais vértices explorar primeiro, potencialmente baseando-se em informações sobre a estrutura do grafo.\n",
        "Considerações Finais\n",
        "A eficácia destas otimizações depende muito da estrutura específica do grafo em questão.\n",
        "Algumas heurísticas podem funcionar melhor para certos tipos de grafos e não tão bem para outros.\n",
        "O ajuste fino dessas estratégias e a escolha das heurísticas corretas podem exigir experimentação e análise do grafo específico que está sendo considerado."
      ]
    },
    {
      "cell_type": "code",
      "execution_count": 1,
      "metadata": {
        "colab": {
          "base_uri": "https://localhost:8080/"
        },
        "id": "kWzjwXej9nxG",
        "outputId": "8100e40b-3038-4b74-92c1-e7fd7768c69f"
      },
      "outputs": [
        {
          "name": "stdout",
          "output_type": "stream",
          "text": [
            "Grafo densamente conectado gerado e salvo em 'grafo.txt'.\n"
          ]
        }
      ],
      "source": [
        "import networkx as nx\n",
        "import random\n",
        "\n",
        "# Parâmetros\n",
        "num_vertices = 30  # Número de vértices no grafo\n",
        "probabilidade_conexao = 0.7  # Probabilidade de haver uma aresta entre dois vértices (ajuste conforme necessário)\n",
        "\n",
        "# Crie um grafo aleatório densamente conectado\n",
        "grafo = nx.fast_gnp_random_graph(num_vertices, probabilidade_conexao)\n",
        "\n",
        "# Nome do arquivo de saída\n",
        "nome_arquivo = \"grafo.txt\"\n",
        "\n",
        "# Abra o arquivo para escrita\n",
        "with open(nome_arquivo, 'w') as arquivo:\n",
        "    # Escreva a quantidade de vértices e número de arestas na primeira linha\n",
        "    arquivo.write(f\"{num_vertices} {grafo.number_of_edges()}\\n\")\n",
        "\n",
        "    # Escreva as arestas no formato de lista de adjacência\n",
        "    for aresta in grafo.edges():\n",
        "        arquivo.write(f\"{aresta[0]+1} {aresta[1]+1}\\n\")  # +1 para ajustar os índices (começando em 1)\n",
        "\n",
        "print(f\"Grafo densamente conectado gerado e salvo em '{nome_arquivo}'.\")"
      ]
    },
    {
      "cell_type": "markdown",
      "metadata": {
        "id": "FZbv4ZPJ9nxM"
      },
      "source": [
        "## Encontrando clique máxima com Python"
      ]
    },
    {
      "cell_type": "code",
      "execution_count": 22,
      "metadata": {
        "colab": {
          "base_uri": "https://localhost:8080/"
        },
        "id": "wsbVthU29nxN",
        "outputId": "276d4ae4-7607-4a24-cd0a-d28442662751"
      },
      "outputs": [
        {
          "name": "stdout",
          "output_type": "stream",
          "text": [
            "Tamanho: 9\n",
            "Cliques maximais encontradas:\n",
            "4 6 11 12 13 15 17 20 27 \n",
            "\n",
            "4 6 12 13 14 15 17 20 27 \n",
            "\n",
            "4 6 11 15 17 20 22 24 30 \n",
            "\n",
            "4 6 14 15 17 20 22 24 30 \n",
            "\n",
            "4 6 11 12 15 17 20 24 30 \n",
            "\n",
            "4 6 12 14 15 17 20 24 30 \n",
            "\n"
          ]
        }
      ],
      "source": [
        "import networkx as nx\n",
        "\n",
        "# Nome do arquivo de entrada\n",
        "nome_arquivo = \"grafo.txt\"\n",
        "\n",
        "# Abrir o arquivo e pular a primeira linha\n",
        "with open(nome_arquivo, 'r') as arquivo:\n",
        "    next(arquivo)  # Pula a primeira linha\n",
        "\n",
        "    # Lê o grafo a partir das linhas restantes\n",
        "    G = nx.parse_adjlist(arquivo)\n",
        "\n",
        "# Encontrar todas as cliques maximais\n",
        "cliques_maximais = list(nx.find_cliques(G))\n",
        "\n",
        "# Encontrar a clique máxima (a maior)\n",
        "clique_maxima = max(cliques_maximais, key=len)\n",
        "\n",
        "print(f\"Tamanho: {len(clique_maxima)}\")\n",
        "\n",
        "print(\"Cliques maximais encontradas:\")\n",
        "for clique in cliques_maximais:\n",
        "    if len(clique) == len(clique_maxima):\n",
        "      clique = sorted(clique, key=lambda x: int(x))\n",
        "      for vertice in clique:\n",
        "        print(vertice, end=\" \")\n",
        "      print(\"\\n\")"
      ]
    },
    {
      "cell_type": "markdown",
      "metadata": {
        "id": "mCpa2QRy9nxP"
      },
      "source": [
        "## Pseudo-Código / Implementação gulosa"
      ]
    },
    {
      "cell_type": "code",
      "execution_count": 8,
      "metadata": {
        "colab": {
          "base_uri": "https://localhost:8080/"
        },
        "id": "9eoqneAz9nxP",
        "outputId": "f3dde0c8-1516-43a1-e2a6-c2ae1a4b55d7"
      },
      "outputs": [
        {
          "name": "stdout",
          "output_type": "stream",
          "text": [
            "Writing gulosa.cpp\n"
          ]
        }
      ],
      "source": [
        "%%writefile gulosa.cpp\n",
        "\n",
        "#include <iostream>\n",
        "#include <vector>\n",
        "#include <fstream>\n",
        "#include <random>\n",
        "#include <bits/stdc++.h>\n",
        "#include <algorithm>\n",
        "#include <omp.h>\n",
        "using namespace std;\n",
        "\n",
        "\n",
        "struct GrafoStruct {\n",
        "    vector<vector<int>> grafo;\n",
        "    int numVertices;\n",
        "};\n",
        "\n",
        "\n",
        "GrafoStruct LerGrafo(const std::string& nomeArquivo) {\n",
        "    std::ifstream arquivo(nomeArquivo);\n",
        "    int numVertices;\n",
        "    int numArestas;\n",
        "    arquivo >> numVertices >> numArestas;\n",
        "\n",
        "    GrafoStruct grafoReturn;\n",
        "    grafoReturn.numVertices = numVertices;\n",
        "    grafoReturn.grafo.resize(numVertices, std::vector<int>(numVertices, 0));\n",
        "\n",
        "    for (int i = 0; i < numArestas; ++i) {\n",
        "        int u, v;\n",
        "        arquivo >> u >> v;\n",
        "        grafoReturn.grafo[u - 1][v - 1] = 1;\n",
        "        grafoReturn.grafo[v - 1][u - 1] = 1;  // O grafo é não direcionado\n",
        "    }\n",
        "\n",
        "    arquivo.close();\n",
        "\n",
        "    return grafoReturn;\n",
        "}\n",
        "\n",
        "\n",
        "vector<int> EncontrarCliqueMaxima(vector<vector<int>>& grafo, int numVertices) {\n",
        "    vector<int> cliqueMaxima;\n",
        "    vector<int> candidatos;\n",
        "\n",
        "    for (int i = 0; i < numVertices; ++i) {\n",
        "        candidatos.push_back(i);\n",
        "    }\n",
        "\n",
        "    while (!candidatos.empty()) {\n",
        "        int v = candidatos.back();\n",
        "        candidatos.pop_back();\n",
        "\n",
        "        bool podeAdicionar = true;\n",
        "\n",
        "        for (int u : cliqueMaxima) {\n",
        "            if (grafo[u][v] == 0) {\n",
        "                podeAdicionar = false;\n",
        "                break;\n",
        "            }\n",
        "        }\n",
        "\n",
        "        if (podeAdicionar) {\n",
        "            cliqueMaxima.push_back(v);\n",
        "            vector<int> novosCandidatos;\n",
        "\n",
        "            for (int u : candidatos) {\n",
        "                bool adjacenteATodos = true;\n",
        "\n",
        "                for (int c : cliqueMaxima) {\n",
        "                    if (grafo[u][c] == 0) {\n",
        "                        adjacenteATodos = false;\n",
        "                        break;\n",
        "                    }\n",
        "                }\n",
        "\n",
        "                if (adjacenteATodos) {\n",
        "                    novosCandidatos.push_back(u);\n",
        "                }\n",
        "            }\n",
        "\n",
        "            candidatos = novosCandidatos;\n",
        "        }\n",
        "    }\n",
        "\n",
        "    return cliqueMaxima;\n",
        "}\n",
        "\n",
        "\n",
        "int main() {\n",
        "    GrafoStruct grafoPacote;\n",
        "    grafoPacote = LerGrafo(\"grafo.txt\");\n",
        "    int numVertices = grafoPacote.numVertices;\n",
        "    vector<vector<int>> grafo = grafoPacote.grafo;\n",
        "\n",
        "    vector<int> resultado = EncontrarCliqueMaxima(grafo, numVertices);\n",
        "\n",
        "    // Imprime a clique máxima encontrada\n",
        "    cout << \"Tamanho: \" << resultado.size() << endl;\n",
        "    sort(resultado.begin(), resultado.end());\n",
        "    cout << \"Clique Máxima: \" << endl;\n",
        "    for (int v : resultado) {\n",
        "        cout << v << \" \";\n",
        "    }\n",
        "    cout << endl;\n",
        "\n",
        "    return 0;\n",
        "}\n"
      ]
    },
    {
      "cell_type": "code",
      "execution_count": 18,
      "metadata": {
        "colab": {
          "base_uri": "https://localhost:8080/"
        },
        "id": "xZZTg9O49nxR",
        "outputId": "b294dac2-b5fd-473d-fbe1-ffec46b871ec"
      },
      "outputs": [
        {
          "name": "stdout",
          "output_type": "stream",
          "text": [
            "Tamanho: 7\n",
            "Clique Máxima: \n",
            "1 16 20 25 27 28 29 \n"
          ]
        }
      ],
      "source": [
        "%%bash\n",
        "g++ -Wall -O3 -fopenmp -g gulosa.cpp -o gulosa\n",
        "./gulosa"
      ]
    },
    {
      "cell_type": "markdown",
      "metadata": {
        "id": "3etJXSvxANKx"
      },
      "source": [
        "## Abordagem Exaustiva - 1° Tarefa"
      ]
    },
    {
      "cell_type": "code",
      "execution_count": 14,
      "metadata": {
        "colab": {
          "base_uri": "https://localhost:8080/"
        },
        "id": "hIaOmDkUgJDv",
        "outputId": "387faaa9-0e04-4f43-cae7-9f5a5b7c9024"
      },
      "outputs": [
        {
          "name": "stdout",
          "output_type": "stream",
          "text": [
            "Overwriting exaustiva.cpp\n"
          ]
        }
      ],
      "source": [
        "%%writefile exaustiva.cpp\n",
        "\n",
        "#include <iostream>\n",
        "#include <vector>\n",
        "#include <fstream>\n",
        "#include <random>\n",
        "#include <bits/stdc++.h>\n",
        "#include <algorithm>\n",
        "#include <omp.h>\n",
        "using namespace std;\n",
        "\n",
        "\n",
        "struct GrafoStruct {\n",
        "    vector<vector<int>> grafo;\n",
        "    int numVertices;\n",
        "};\n",
        "\n",
        "\n",
        "GrafoStruct LerGrafo(const std::string& nomeArquivo) {\n",
        "    std::ifstream arquivo(nomeArquivo);\n",
        "    int numVertices;\n",
        "    int numArestas;\n",
        "    arquivo >> numVertices >> numArestas;\n",
        "\n",
        "    GrafoStruct grafoReturn;\n",
        "    grafoReturn.numVertices = numVertices;\n",
        "    grafoReturn.grafo.resize(numVertices, std::vector<int>(numVertices, 0));\n",
        "\n",
        "    for (int i = 0; i < numArestas; ++i) {\n",
        "        int u, v;\n",
        "        arquivo >> u >> v;\n",
        "        grafoReturn.grafo[u - 1][v - 1] = 1;\n",
        "        grafoReturn.grafo[v - 1][u - 1] = 1;  // O grafo é não direcionado\n",
        "    }\n",
        "\n",
        "    arquivo.close();\n",
        "\n",
        "    return grafoReturn;\n",
        "}\n",
        "\n",
        "\n",
        "vector<int> EncontrarCliqueMaxima(vector<vector<int>> grafo, vector<int> cand, vector<int> clique) {\n",
        "    vector<int> CM;\n",
        "\n",
        "    for (auto& c : cand) {\n",
        "        vector<int> cand2 = cand;\n",
        "        vector<int> clique2 = clique;\n",
        "\n",
        "        vector<int> novosCand;\n",
        "        vector<int> possivelCM;\n",
        "\n",
        "        cand2.erase(cand2.begin() + distance(cand2.begin(), find(cand2.begin(), cand2.end(), c)));\n",
        "\n",
        "        bool podeAdicionar = true;\n",
        "        for (auto& u : clique2) {\n",
        "            if (grafo[u][c] == 0) {\n",
        "                podeAdicionar = false;\n",
        "                break;\n",
        "            }\n",
        "        }\n",
        "\n",
        "        if (podeAdicionar == true) {\n",
        "            clique2.push_back(c);\n",
        "\n",
        "            for (auto& u : cand2) {\n",
        "                bool adjacenteATodos = true;\n",
        "\n",
        "                for (auto& cl : clique2) {\n",
        "                    if (grafo[u][cl] == 0) {\n",
        "                        adjacenteATodos = false;\n",
        "                        break;\n",
        "                    }\n",
        "                }\n",
        "\n",
        "                if (adjacenteATodos == true) {\n",
        "                    novosCand.push_back(u);\n",
        "                }\n",
        "            }\n",
        "        }\n",
        "        possivelCM = clique2;\n",
        "\n",
        "        if (!novosCand.empty()) {\n",
        "            possivelCM = EncontrarCliqueMaxima(grafo, novosCand, possivelCM);\n",
        "        }\n",
        "\n",
        "        if (possivelCM.size() >= CM.size()) {\n",
        "            CM = possivelCM;\n",
        "        }\n",
        "    }\n",
        "\n",
        "    return CM;\n",
        "}\n",
        "\n",
        "\n",
        "int main() {\n",
        "    double tempo = omp_get_wtime();\n",
        "\n",
        "    GrafoStruct grafoPacote;\n",
        "    grafoPacote = LerGrafo(\"grafo.txt\");\n",
        "    int numVertices = grafoPacote.numVertices;\n",
        "    vector<vector<int>> grafo = grafoPacote.grafo;\n",
        "\n",
        "    vector<int> cand;\n",
        "    for (int i = 0; i <= numVertices - 1; i++) {\n",
        "        cand.push_back(i);\n",
        "    }\n",
        "\n",
        "    vector<int> CM;\n",
        "    vector<int> resultado = EncontrarCliqueMaxima(grafo, cand, CM);\n",
        "\n",
        "    tempo = omp_get_wtime() - tempo;\n",
        "\n",
        "    cout << \"Tamanho: \" << resultado.size() << endl;\n",
        "    sort(resultado.begin(), resultado.end());\n",
        "    cout << \"Clique Máxima: \" << endl;\n",
        "    for (int v : resultado) {\n",
        "        cout << v+1 << \" \";\n",
        "    }\n",
        "    cout << endl;\n",
        "\n",
        "    cout << \"Tempo: \" << tempo << endl;\n",
        "\n",
        "    return 0;\n",
        "}"
      ]
    },
    {
      "cell_type": "code",
      "execution_count": 15,
      "metadata": {
        "colab": {
          "base_uri": "https://localhost:8080/"
        },
        "id": "7BoI5BJtBf7q",
        "outputId": "b29d7093-b4dc-40b4-efcb-403bb379ea81"
      },
      "outputs": [
        {
          "name": "stdout",
          "output_type": "stream",
          "text": [
            "Tamanho: 8\n",
            "Clique Máxima: \n",
            "8 16 17 20 24 28 29 30 \n",
            "Tempo: 0.834483\n"
          ]
        }
      ],
      "source": [
        "%%bash\n",
        "g++ -Wall -O3 -fopenmp -g exaustiva.cpp -o exaustiva\n",
        "./exaustiva"
      ]
    },
    {
      "cell_type": "markdown",
      "metadata": {
        "id": "MHurQY8LAYP2"
      },
      "source": [
        "## Abordagem Exaustiva - 2° Tarefa\n",
        "\n",
        "Até qual tamanho de problema você conseguiu obter um resultado em tempo hábil (aprox. 15 min)? RESPONDER\n",
        "\n",
        " Pseudo-codigo de uma heurística para otimizar essa tarefa exaustiva.\n",
        " ```\n",
        " RESPONDER\n",
        " ```"
      ]
    },
    {
      "cell_type": "markdown",
      "metadata": {
        "id": "we3PhPuIwkpY"
      },
      "source": [
        "## Implementação com Threads OpenMP"
      ]
    },
    {
      "cell_type": "code",
      "execution_count": 120,
      "metadata": {
        "colab": {
          "base_uri": "https://localhost:8080/"
        },
        "id": "lw71nRKFxIoX",
        "outputId": "32f090f4-f047-41ba-a175-621259e55d0a"
      },
      "outputs": [
        {
          "name": "stdout",
          "output_type": "stream",
          "text": [
            "Overwriting exaustiva_openmp.cpp\n"
          ]
        }
      ],
      "source": [
        "%%writefile exaustiva_openmp.cpp\n",
        "\n",
        "#include <iostream>\n",
        "#include <vector>\n",
        "#include <fstream>\n",
        "#include <random>\n",
        "#include <bits/stdc++.h>\n",
        "#include <algorithm>\n",
        "#include <omp.h>\n",
        "using namespace std;\n",
        "\n",
        "\n",
        "struct GrafoStruct {\n",
        "    vector<vector<int>> grafo;\n",
        "    int numVertices;\n",
        "};\n",
        "\n",
        "\n",
        "GrafoStruct LerGrafo(const std::string& nomeArquivo) {\n",
        "    std::ifstream arquivo(nomeArquivo);\n",
        "    int numVertices;\n",
        "    int numArestas;\n",
        "    arquivo >> numVertices >> numArestas;\n",
        "\n",
        "    GrafoStruct grafoReturn;\n",
        "    grafoReturn.numVertices = numVertices;\n",
        "    grafoReturn.grafo.resize(numVertices, std::vector<int>(numVertices, 0));\n",
        "\n",
        "    for (int i = 0; i < numArestas; ++i) {\n",
        "        int u, v;\n",
        "        arquivo >> u >> v;\n",
        "        grafoReturn.grafo[u - 1][v - 1] = 1;\n",
        "        grafoReturn.grafo[v - 1][u - 1] = 1;  // O grafo é não direcionado\n",
        "    }\n",
        "\n",
        "    arquivo.close();\n",
        "\n",
        "    return grafoReturn;\n",
        "}\n",
        "\n",
        "\n",
        "vector<int> EncontrarCliqueMaxima(vector<vector<int>> grafo, vector<int> cand, vector<int> clique) {\n",
        "    vector<int> CM;\n",
        "\n",
        "    #pragma omp parallel for\n",
        "    for (auto& c : cand) {\n",
        "        vector<int> cand2 = cand;\n",
        "        vector<int> clique2 = clique;\n",
        "\n",
        "        vector<int> novosCand;\n",
        "        vector<int> possivelCM;\n",
        "\n",
        "        cand2.erase(cand2.begin() + distance(cand2.begin(), find(cand2.begin(), cand2.end(), c)));\n",
        "\n",
        "        bool podeAdicionar = true;\n",
        "        for (auto& u : clique2) {\n",
        "            if (grafo[u][c] == 0) {\n",
        "                podeAdicionar = false;\n",
        "                break;\n",
        "            }\n",
        "        }\n",
        "\n",
        "        if (podeAdicionar == true) {\n",
        "            clique2.push_back(c);\n",
        "\n",
        "            for (auto& u : cand2) {\n",
        "                bool adjacenteATodos = true;\n",
        "\n",
        "                for (auto& cl : clique2) {\n",
        "                    if (grafo[u][cl] == 0) {\n",
        "                        adjacenteATodos = false;\n",
        "                        break;\n",
        "                    }\n",
        "                }\n",
        "\n",
        "                if (adjacenteATodos == true) {\n",
        "                    novosCand.push_back(u);\n",
        "                }\n",
        "            }\n",
        "        }\n",
        "        possivelCM = clique2;\n",
        "\n",
        "        if (!novosCand.empty()) {\n",
        "            possivelCM = EncontrarCliqueMaxima(grafo, novosCand, possivelCM);\n",
        "        }\n",
        "\n",
        "        #pragma omp critical\n",
        "        {\n",
        "            if (possivelCM.size() >= CM.size()) {\n",
        "                CM = possivelCM;\n",
        "            }\n",
        "        }\n",
        "    }\n",
        "\n",
        "    return CM;\n",
        "}\n",
        "\n",
        "\n",
        "int main() {\n",
        "    double tempo = omp_get_wtime();\n",
        "\n",
        "    GrafoStruct grafoPacote;\n",
        "    grafoPacote = LerGrafo(\"grafo.txt\");\n",
        "    int numVertices = grafoPacote.numVertices;\n",
        "    vector<vector<int>> grafo = grafoPacote.grafo;\n",
        "\n",
        "    vector<int> cand;\n",
        "    for (int i = 0; i <= numVertices - 1; i++) {\n",
        "        cand.push_back(i);\n",
        "    }\n",
        "\n",
        "    vector<int> CM;\n",
        "    vector<int> resultado = EncontrarCliqueMaxima(grafo, cand, CM);\n",
        "\n",
        "    tempo = omp_get_wtime() - tempo;\n",
        "\n",
        "    cout << \"Tamanho: \" << resultado.size() << endl;\n",
        "    sort(resultado.begin(), resultado.end());\n",
        "    cout << \"Clique Máxima: \" << endl;\n",
        "    for (int v : resultado) {\n",
        "        cout << v+1 << \" \";\n",
        "    }\n",
        "    cout << endl;\n",
        "\n",
        "    cout << \"Tempo: \" << tempo << endl;\n",
        "\n",
        "    return 0;\n",
        "}"
      ]
    },
    {
      "cell_type": "code",
      "execution_count": 121,
      "metadata": {
        "colab": {
          "base_uri": "https://localhost:8080/"
        },
        "id": "K674YPzyxm-m",
        "outputId": "06d4cc98-6e7f-4085-de92-41408c2cb512"
      },
      "outputs": [
        {
          "name": "stdout",
          "output_type": "stream",
          "text": [
            "Tamanho: 9\n",
            "Clique Máxima: \n",
            "1 6 7 12 17 18 26 28 30 \n",
            "Tempo: 9.18613\n"
          ]
        },
        {
          "data": {
            "text/plain": []
          },
          "execution_count": 121,
          "metadata": {},
          "output_type": "execute_result"
        }
      ],
      "source": [
        "%%shell\n",
        "g++ -Wall -O3 -fopenmp -g exaustiva_openmp.cpp -o exaustiva_openmp\n",
        "./exaustiva_openmp"
      ]
    }
  ],
  "metadata": {
    "colab": {
      "provenance": []
    },
    "kernelspec": {
      "display_name": "base",
      "language": "python",
      "name": "python3"
    },
    "language_info": {
      "codemirror_mode": {
        "name": "ipython",
        "version": 3
      },
      "file_extension": ".py",
      "mimetype": "text/x-python",
      "name": "python",
      "nbconvert_exporter": "python",
      "pygments_lexer": "ipython3",
      "version": "3.10.12"
    }
  },
  "nbformat": 4,
  "nbformat_minor": 0
}
